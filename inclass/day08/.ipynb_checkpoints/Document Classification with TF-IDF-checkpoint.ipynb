{
 "cells": [
  {
   "cell_type": "markdown",
   "metadata": {},
   "source": [
    "## Exploring Tf-IDF\n",
    "\n",
    "In this notebook you will be exploring the computation of the Tf-IDF feature using a very popular dataset called 20 newsgroups."
   ]
  },
  {
   "cell_type": "code",
   "execution_count": 19,
   "metadata": {
    "collapsed": false
   },
   "outputs": [
    {
     "name": "stdout",
     "output_type": "stream",
     "text": [
      "the 20 newsgroups by date dataset\n",
      "Number of posts 11314\n"
     ]
    },
    {
     "data": {
      "image/png": "[encoded data removed]",
      "text/plain": [
       "<matplotlib.figure.Figure at 0x7f48a7ce3150>"
      ]
     },
     "metadata": {},
     "output_type": "display_data"
    },
    {
     "name": "stdout",
     "output_type": "stream",
     "text": [
      "First post!\n",
      "I was wondering if anyone out there could enlighten me on this car I saw\n",
      "the other day. It was a 2-door sports car, looked to be from the late 60s/\n",
      "early 70s. It was called a Bricklin. The doors were really small. In addition,\n",
      "the front bumper was separate from the rest of the body. This is \n",
      "all I know. If anyone can tellme a model name, engine specs, years\n",
      "of production, where this car is made, history, or whatever info you\n",
      "have on this funky looking car, please e-mail.\n",
      "7\n"
     ]
    }
   ],
   "source": [
    "%matplotlib inline\n",
    "from sklearn.datasets import fetch_20newsgroups\n",
    "from sklearn.svm import SVC\n",
    "import sklearn.cross_validation as cvs\n",
    "from sklearn.linear_model import LinearRegression\n",
    "from sklearn.linear_model import LogisticRegressio\n",
    "\n",
    "data = fetch_20newsgroups(subset='train', remove=('headers', 'footers', 'quotes'))\n",
    "\n",
    "post_texts = data.data\n",
    "news_group_ids = data.target\n",
    "\n",
    "print data.description\n",
    "\n",
    "print \"Number of posts\", len(data.data)\n",
    "import matplotlib.pyplot as plt\n",
    "plt.hist(data.target, bins=20)\n",
    "plt.xlabel('Newsgroup Id')\n",
    "plt.ylabel('Number of Posts')\n",
    "plt.show()\n",
    "\n",
    "print \"First post!\"\n",
    "print data.data[0]\n",
    "\n",
    "print data.target[0]"
   ]
  },
  {
   "cell_type": "markdown",
   "metadata": {},
   "source": [
    "Next, you will be writing a function to compute the term frequency part of [Tf-IDF](https://en.wikipedia.org/wiki/Tf%E2%80%93idf).  It's up to you how fancy to make this function.  In my simple version, I used split after first removing leading or trailing punctuation (I used the `strip` function) and also converting the words to lower case."
   ]
  },
  {
   "cell_type": "code",
   "execution_count": 2,
   "metadata": {
    "collapsed": false
   },
   "outputs": [
    {
     "data": {
      "text/plain": [
       "{u'a': 3,\n",
       " u'addition': 1,\n",
       " u'all': 1,\n",
       " u'anyone': 2,\n",
       " u'be': 1,\n",
       " u'body': 1,\n",
       " u'bricklin': 1,\n",
       " u'bumper': 1,\n",
       " u'called': 1,\n",
       " u'can': 1,\n",
       " u'car': 4,\n",
       " u'could': 1,\n",
       " u'day': 1,\n",
       " u'doors': 1,\n",
       " u'early': 1,\n",
       " u'engine': 1,\n",
       " u'enlighten': 1,\n",
       " u'from': 2,\n",
       " u'front': 1,\n",
       " u'funky': 1,\n",
       " u'have': 1,\n",
       " u'history': 1,\n",
       " u'i': 3,\n",
       " u'if': 2,\n",
       " u'in': 1,\n",
       " u'info': 1,\n",
       " u'is': 2,\n",
       " u'it': 2,\n",
       " u'know': 1,\n",
       " u'late': 1,\n",
       " u'looked': 1,\n",
       " u'looking': 1,\n",
       " u'made': 1,\n",
       " u'me': 1,\n",
       " u'model': 1,\n",
       " u'name': 1,\n",
       " u'of': 2,\n",
       " u'on': 2,\n",
       " u'or': 1,\n",
       " u'other': 1,\n",
       " u'out': 1,\n",
       " u'please': 1,\n",
       " u'production': 1,\n",
       " u'really': 1,\n",
       " u'rest': 1,\n",
       " u'saw': 1,\n",
       " u'separate': 1,\n",
       " u'small': 1,\n",
       " u'specs': 1,\n",
       " u'sports': 1,\n",
       " u'tellme': 1,\n",
       " u'the': 6,\n",
       " u'there': 1,\n",
       " u'this': 4,\n",
       " u'to': 1,\n",
       " u'was': 4,\n",
       " u'were': 1,\n",
       " u'whatever': 1,\n",
       " u'where': 1,\n",
       " u'wondering': 1,\n",
       " u'years': 1,\n",
       " u'you': 1}"
      ]
     },
     "execution_count": 2,
     "metadata": {},
     "output_type": "execute_result"
    }
   ],
   "source": [
    "import string\n",
    "\n",
    "def tf(text):\n",
    "    \"\"\" Returns a dictionary where keys are words that occur in text\n",
    "        and the value is the number of times that each word occurs. \"\"\"\n",
    "    d = {}\n",
    "    words = text.split()\n",
    "    for w in words:\n",
    "        modified_word = w.lower().strip('.,;!?\"()')\n",
    "        if not modified_word.strip(string.ascii_letters):\n",
    "            d[modified_word] = d.get(modified_word,0) + 1\n",
    "    return d\n",
    "\n",
    "tf(data.data[0])"
   ]
  },
  {
   "cell_type": "markdown",
   "metadata": {},
   "source": [
    "Next, you will be writing a function to compute the inverse document frequency part of [Tf-IDF](https://en.wikipedia.org/wiki/Tf%E2%80%93idf)."
   ]
  },
  {
   "cell_type": "code",
   "execution_count": 3,
   "metadata": {
    "collapsed": false
   },
   "outputs": [
    {
     "name": "stdout",
     "output_type": "stream",
     "text": [
      "Lowest IDF (most common)\n",
      "(u'the', 0.1783344654369077)\n",
      "(u'to', 0.2951935671812279)\n",
      "(u'a', 0.3093035704974311)\n",
      "(u'and', 0.37938084476550754)\n",
      "(u'of', 0.38963734493269664)\n",
      "(u'i', 0.4496015428308278)\n",
      "(u'in', 0.4708878807844732)\n",
      "(u'is', 0.4824190783836629)\n",
      "(u'that', 0.560876083276634)\n",
      "(u'it', 0.5843807692394498)\n",
      "\n",
      "Highest IDF (least common)\n",
      "(u'jawbone', 9.333796175903101)\n",
      "(u'codings', 9.333796175903101)\n",
      "(u'anime', 9.333796175903101)\n",
      "(u'tzeng', 9.333796175903101)\n",
      "(u'corelations', 9.333796175903101)\n",
      "(u'echte', 9.333796175903101)\n",
      "(u'geysers', 9.333796175903101)\n",
      "(u'crete', 9.333796175903101)\n",
      "(u'rlequant', 9.333796175903101)\n",
      "(u'moguls', 9.333796175903101)\n"
     ]
    }
   ],
   "source": [
    "from math import log\n",
    "import operator\n",
    "\n",
    "def idf(data):\n",
    "    \"\"\" Returns a dictionary where the keys are words and the values are inverse\n",
    "        document frequencies.  For this function you should use the formula\n",
    "        idf(w, data) = log(N / |text in data that contain the word w|) \"\"\"\n",
    "    document_count = {}\n",
    "    for post in data:\n",
    "        d = tf(post)\n",
    "        for k in d:\n",
    "            document_count[k] = document_count.get(k, 0) + 1\n",
    "    \n",
    "    idf = {}\n",
    "    for key in document_count:\n",
    "        idf[key] = log(len(data)/float(document_count[key]))\n",
    "    return idf\n",
    "\n",
    "idf_dict = idf(data.data)\n",
    "sorted_idf = sorted(idf_dict.items(), key=operator.itemgetter(1))\n",
    "\n",
    "print \"Lowest IDF (most common)\"\n",
    "for d in sorted_idf[0:10]:\n",
    "    print d\n",
    "\n",
    "print \"\"\n",
    "print \"Highest IDF (least common)\"\n",
    "rev_sorted_idf = sorted(idf_dict.items(), key=operator.itemgetter(1))\n",
    "for d in reversed(rev_sorted_idf[-10:]):\n",
    "    print d\n",
    "    \n",
    "    \n",
    "idfVal = idf(data.data)"
   ]
  },
  {
   "cell_type": "markdown",
   "metadata": {
    "collapsed": true
   },
   "source": [
    "### Tf-IDF and Document Classification\n",
    "\n",
    "Next, you will be using these functions to create a model to classify the newsgroup documents.  Here is an outline of the basic steps you will need to take to do this.\n",
    "\n",
    "1.  Create a tfidf function that combines your tf and idf function to process a string and returns the TF-IDF features for that string expressed as a Python dictionary.\n",
    "2.  Create a function that takes a list of strings (a dataset) and returns a matrix consisting of the TF-IDF features for each string expressed as a vector.  This will require you to think about how to map a specific word to a specific element of your vector.  You will have to think about whether to store your data as a sparse or dense matrix.\n",
    "3.  Use your vectorizer on the news group data.  Then use something like cross_val_score to estimate the performance of your model.  Start with a subset of the data so you get a sense for the training time.  For your classifier, you can try different options.  Some good ones to look at would be Support Vector Classifiers, Logistic Regression, and RandomForests."
   ]
  },
  {
   "cell_type": "code",
   "execution_count": 4,
   "metadata": {
    "collapsed": false
   },
   "outputs": [
    {
     "name": "stdout",
     "output_type": "stream",
     "text": [
      "{u'body': 3.8784750605453997, u'all': 1.2907752906048189, u'the': 1.0700067926214463, u'is': 0.9648381567673258, u'out': 1.5173791922113, u'history': 3.706175062212464, u'it': 1.1687615384788996, u'rest': 3.584403189994848, u'years': 2.5358557629281706, u'production': 5.129103556512135, u'have': 0.773160426644027, u'in': 0.4708878807844732, u'saw': 3.7616421437253367, u'specs': 5.239451613681, u'enlighten': 6.768846818441564, u'anyone': 4.222460314161861, u'from': 2.4110120085920994, u'bricklin': 8.640648995343156, u'there': 1.2930271815355219, u'please': 2.2871488980543453, u'sports': 5.239451613681, u'late': 4.197997738852839, u'to': 0.2951935671812279, u'other': 1.6812504832091804, u'wondering': 4.157646443329272, u'you': 0.8240305003156602, u'really': 2.382981407460517, u'was': 4.994469711314258, u'engine': 4.413815250074976, u'be': 0.8313106133591379, u'doors': 5.527133686132781, u'separate': 4.481765911983484, u'addition': 4.296843573489472, u'early': 3.750299867121402, u'me': 1.4628665791479585, u'were': 1.904868981100829, u'if': 1.8712235421381316, u'whatever': 3.670835695767155, u'front': 3.917695773698681, u'day': 3.031177200158196, u'a': 0.9279107114922933, u'on': 1.5873360264087353, u'made': 2.6417124333964725, u'name': 3.143480770049954, u'car': 13.574499692730678, u'i': 1.3488046284924835, u'of': 0.7792746898653933, u'could': 1.9162157734885568, u'this': 3.0826962103938547, u'called': 3.0005165477634104, u'looked': 4.071105986998216, u'tellme': 9.333796175903101, u'funky': 7.724358263469001, u'info': 3.510750280420082, u'can': 1.2167820881657907, u'bumper': 6.443424418006936, u'small': 3.2653705876589907, u'model': 3.917695773698681, u'looking': 2.993436872175349, u'where': 2.213351803510613, u'or': 0.9821854252765418, u'know': 1.6097915192270351}\n"
     ]
    }
   ],
   "source": [
    "def tfidf(document, idfVal):\n",
    "    \n",
    "    tf_vals = tf(document)\n",
    "        \n",
    "    return {word: tf_val*idfVal[word] for word, tf_val in tf_vals.items()}\n",
    "    \n",
    "print tfidf(data.data[0], idfVal)"
   ]
  },
  {
   "cell_type": "code",
   "execution_count": 6,
   "metadata": {
    "collapsed": false
   },
   "outputs": [
    {
     "name": "stdout",
     "output_type": "stream",
     "text": [
      "<class 'scipy.sparse.lil.lil_matrix'>\n"
     ]
    }
   ],
   "source": [
    "import scipy.sparse as sparse\n",
    "\n",
    "def construct_matrix(data, idfVal):\n",
    "    \n",
    "    word_ind = dict(zip(idfVal.keys(), xrange(len(idf_dict))))\n",
    "\n",
    "    matrix = sparse.lil_matrix((len(data), len(idfVal)))\n",
    "    \n",
    "    for i, doc in enumerate(data):\n",
    "        tfidf_dict = tfidf(doc, idfVal)\n",
    "        \n",
    "        for word, tfidf_val in tfidf_dict.iteritems():\n",
    "            matrix[i, word_ind[word]] = tfidf_val\n",
    "    \n",
    "    return matrix\n",
    "    \n",
    "matrix = construct_matrix(data.data, idfVal)\n",
    "\n",
    "print type(matrix)"
   ]
  },
  {
   "cell_type": "code",
   "execution_count": 25,
   "metadata": {
    "collapsed": false
   },
   "outputs": [
    {
     "ename": "NameError",
     "evalue": "name 'LogisticRegression' is not defined",
     "output_type": "error",
     "traceback": [
      "\u001b[1;31m---------------------------------------------------------------------------\u001b[0m",
      "\u001b[1;31mNameError\u001b[0m                                 Traceback (most recent call last)",
      "\u001b[1;32m<ipython-input-25-7b32073132f7>\u001b[0m in \u001b[0;36m<module>\u001b[1;34m()\u001b[0m\n\u001b[1;32m----> 1\u001b[1;33m \u001b[0malg\u001b[0m \u001b[1;33m=\u001b[0m \u001b[0mLogisticRegression\u001b[0m\u001b[1;33m(\u001b[0m\u001b[0mrandom_state\u001b[0m\u001b[1;33m=\u001b[0m\u001b[1;36m1\u001b[0m\u001b[1;33m)\u001b[0m\u001b[1;33m\u001b[0m\u001b[0m\n\u001b[0m\u001b[0;32m      2\u001b[0m \u001b[1;33m\u001b[0m\u001b[0m\n\u001b[0;32m      3\u001b[0m \u001b[0mscores\u001b[0m \u001b[1;33m=\u001b[0m \u001b[0mcvs\u001b[0m\u001b[1;33m.\u001b[0m\u001b[0mcross_val_score\u001b[0m\u001b[1;33m(\u001b[0m\u001b[0malg\u001b[0m\u001b[1;33m,\u001b[0m \u001b[0mmatrix\u001b[0m\u001b[1;33m[\u001b[0m\u001b[1;33m:\u001b[0m\u001b[1;36m5000\u001b[0m\u001b[1;33m,\u001b[0m\u001b[1;33m:\u001b[0m\u001b[1;33m]\u001b[0m\u001b[1;33m,\u001b[0m \u001b[0mdata\u001b[0m\u001b[1;33m.\u001b[0m\u001b[0mtarget\u001b[0m\u001b[1;33m[\u001b[0m\u001b[1;33m:\u001b[0m\u001b[1;36m5000\u001b[0m\u001b[1;33m]\u001b[0m\u001b[1;33m,\u001b[0m \u001b[0mcv\u001b[0m\u001b[1;33m=\u001b[0m\u001b[1;36m3\u001b[0m\u001b[1;33m)\u001b[0m\u001b[1;33m\u001b[0m\u001b[0m\n\u001b[0;32m      4\u001b[0m \u001b[1;33m\u001b[0m\u001b[0m\n\u001b[0;32m      5\u001b[0m \u001b[1;32mprint\u001b[0m \u001b[0mscores\u001b[0m\u001b[1;33m.\u001b[0m\u001b[0mmean\u001b[0m\u001b[1;33m(\u001b[0m\u001b[1;33m)\u001b[0m\u001b[1;33m\u001b[0m\u001b[0m\n",
      "\u001b[1;31mNameError\u001b[0m: name 'LogisticRegression' is not defined"
     ]
    }
   ],
   "source": [
    "alg = LogisticRegression(random_state=1)\n",
    "\n",
    "scores = cvs.cross_val_score(alg, matrix[:5000,:], data.target[:5000], cv=3)\n",
    "\n",
    "print scores.mean()"
   ]
  },
  {
   "cell_type": "code",
   "execution_count": null,
   "metadata": {
    "collapsed": true
   },
   "outputs": [],
   "source": []
  }
 ],
 "metadata": {
  "kernelspec": {
   "display_name": "Python 2",
   "language": "python",
   "name": "python2"
  },
  "language_info": {
   "codemirror_mode": {
    "name": "ipython",
    "version": 2
   },
   "file_extension": ".py",
   "mimetype": "text/x-python",
   "name": "python",
   "nbconvert_exporter": "python",
   "pygments_lexer": "ipython2",
   "version": "2.7.11"
  }
 },
 "nbformat": 4,
 "nbformat_minor": 0
}
